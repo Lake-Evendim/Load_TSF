{
 "cells": [
  {
   "cell_type": "code",
   "execution_count": 2,
   "id": "d690fc2f",
   "metadata": {},
   "outputs": [],
   "source": [
    "import os\n",
    "import pandas as pd\n",
    "import numpy as np\n",
    "from sklearn.model_selection import train_test_split\n",
    "from sklearn.preprocessing import MinMaxScaler\n",
    "import random\n",
    "import math\n",
    "import torch\n",
    "from sklearn.model_selection import train_test_split\n",
    "import torch.nn.functional as F"
   ]
  },
  {
   "cell_type": "code",
   "execution_count": 4,
   "id": "e52329ce",
   "metadata": {},
   "outputs": [
    {
     "name": "stdout",
     "output_type": "stream",
     "text": [
      "训练集形状: torch.Size([28098, 13]) torch.Size([28098, 1])\n",
      "验证集形状: torch.Size([3513, 13]) torch.Size([3513, 1])\n",
      "测试集形状: torch.Size([3512, 13]) torch.Size([3512, 1])\n"
     ]
    }
   ],
   "source": [
    "device = torch.device('cpu')\n",
    "output_folder = 'NL'\n",
    "# 读取数据集为训练\n",
    "def read_data(path):\n",
    "    data = pd.read_csv(path)\n",
    "    x = data.values[:, :-1]  # 特征\n",
    "    y = data.values[:, -1]   # 目标\n",
    "    return x, y\n",
    "\n",
    "# 准备数据\n",
    "x_train, y_train = read_data(f'data_exp/{output_folder}/train_set.csv')\n",
    "x_test, y_test = read_data(f'data_exp/{output_folder}/test_set.csv')\n",
    "x_val, y_val = read_data(f'data_exp/{output_folder}/val_set.csv')\n",
    "\n",
    "# 转换为 PyTorch 张量\n",
    "def d2tensor(x):\n",
    "    return torch.FloatTensor(x).to(device)\n",
    "\n",
    "train_x = d2tensor(x_train)\n",
    "train_y = d2tensor(y_train).reshape(-1, 1)\n",
    "val_x = d2tensor(x_val)\n",
    "val_y = d2tensor(y_val).reshape(-1, 1)\n",
    "test_x = d2tensor(x_test)\n",
    "test_y = d2tensor(y_test).reshape(-1, 1)\n",
    "\n",
    "# 输出确认\n",
    "print(\"训练集形状:\", train_x.shape, train_y.shape)\n",
    "print(\"验证集形状:\", val_x.shape, val_y.shape)\n",
    "print(\"测试集形状:\", test_x.shape, test_y.shape)"
   ]
  }
 ],
 "metadata": {
  "kernelspec": {
   "display_name": "stone",
   "language": "python",
   "name": "python3"
  },
  "language_info": {
   "codemirror_mode": {
    "name": "ipython",
    "version": 3
   },
   "file_extension": ".py",
   "mimetype": "text/x-python",
   "name": "python",
   "nbconvert_exporter": "python",
   "pygments_lexer": "ipython3",
   "version": "3.9.19"
  }
 },
 "nbformat": 4,
 "nbformat_minor": 5
}
