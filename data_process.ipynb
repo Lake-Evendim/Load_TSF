{
 "cells": [
  {
   "cell_type": "code",
   "execution_count": 1,
   "id": "b6e25a2f",
   "metadata": {},
   "outputs": [],
   "source": [
    "import pandas as pd\n",
    "import numpy as np\n",
    "from sklearn.model_selection import train_test_split\n",
    "from sklearn.preprocessing import StandardScaler"
   ]
  },
  {
   "cell_type": "code",
   "execution_count": 11,
   "id": "d10d665b",
   "metadata": {},
   "outputs": [
    {
     "data": {
      "text/plain": [
       "Datetime            object\n",
       "Resolution code     object\n",
       "Elia Grid Load     float64\n",
       "dtype: object"
      ]
     },
     "execution_count": 11,
     "metadata": {},
     "output_type": "execute_result"
    }
   ],
   "source": [
    "# Load the CSV file\n",
    "data = pd.read_csv(r'dataset_origin\\NL\\NL_elia.csv')\n",
    "\n",
    "data.dtypes"
   ]
  },
  {
   "cell_type": "code",
   "execution_count": 12,
   "id": "6bd3255c",
   "metadata": {},
   "outputs": [
    {
     "data": {
      "text/plain": [
       "0"
      ]
     },
     "execution_count": 12,
     "metadata": {},
     "output_type": "execute_result"
    }
   ],
   "source": [
    "data['Datetime'].isna().sum()"
   ]
  },
  {
   "cell_type": "code",
   "execution_count": 13,
   "id": "1da03693",
   "metadata": {},
   "outputs": [
    {
     "data": {
      "text/html": [
       "<div>\n",
       "<style scoped>\n",
       "    .dataframe tbody tr th:only-of-type {\n",
       "        vertical-align: middle;\n",
       "    }\n",
       "\n",
       "    .dataframe tbody tr th {\n",
       "        vertical-align: top;\n",
       "    }\n",
       "\n",
       "    .dataframe thead th {\n",
       "        text-align: right;\n",
       "    }\n",
       "</style>\n",
       "<table border=\"1\" class=\"dataframe\">\n",
       "  <thead>\n",
       "    <tr style=\"text-align: right;\">\n",
       "      <th></th>\n",
       "      <th>Datetime</th>\n",
       "      <th>Resolution code</th>\n",
       "      <th>Elia Grid Load</th>\n",
       "    </tr>\n",
       "  </thead>\n",
       "  <tbody>\n",
       "    <tr>\n",
       "      <th>35126</th>\n",
       "      <td>2024-03-31</td>\n",
       "      <td>PT15M</td>\n",
       "      <td>7277.849</td>\n",
       "    </tr>\n",
       "    <tr>\n",
       "      <th>35127</th>\n",
       "      <td>2024-03-31</td>\n",
       "      <td>PT15M</td>\n",
       "      <td>7301.636</td>\n",
       "    </tr>\n",
       "    <tr>\n",
       "      <th>35128</th>\n",
       "      <td>2024-03-31</td>\n",
       "      <td>PT15M</td>\n",
       "      <td>7251.043</td>\n",
       "    </tr>\n",
       "    <tr>\n",
       "      <th>35129</th>\n",
       "      <td>2024-03-31</td>\n",
       "      <td>PT15M</td>\n",
       "      <td>7154.989</td>\n",
       "    </tr>\n",
       "    <tr>\n",
       "      <th>35130</th>\n",
       "      <td>2024-03-31</td>\n",
       "      <td>PT15M</td>\n",
       "      <td>7080.153</td>\n",
       "    </tr>\n",
       "    <tr>\n",
       "      <th>35131</th>\n",
       "      <td>2024-03-31</td>\n",
       "      <td>PT15M</td>\n",
       "      <td>6997.484</td>\n",
       "    </tr>\n",
       "    <tr>\n",
       "      <th>35132</th>\n",
       "      <td>2024-03-31</td>\n",
       "      <td>PT15M</td>\n",
       "      <td>6857.264</td>\n",
       "    </tr>\n",
       "    <tr>\n",
       "      <th>35133</th>\n",
       "      <td>2024-03-31</td>\n",
       "      <td>PT15M</td>\n",
       "      <td>6673.454</td>\n",
       "    </tr>\n",
       "    <tr>\n",
       "      <th>35134</th>\n",
       "      <td>2024-03-31</td>\n",
       "      <td>PT15M</td>\n",
       "      <td>6507.564</td>\n",
       "    </tr>\n",
       "    <tr>\n",
       "      <th>35135</th>\n",
       "      <td>2024-03-31</td>\n",
       "      <td>PT15M</td>\n",
       "      <td>6401.901</td>\n",
       "    </tr>\n",
       "  </tbody>\n",
       "</table>\n",
       "</div>"
      ],
      "text/plain": [
       "         Datetime Resolution code  Elia Grid Load\n",
       "35126  2024-03-31           PT15M        7277.849\n",
       "35127  2024-03-31           PT15M        7301.636\n",
       "35128  2024-03-31           PT15M        7251.043\n",
       "35129  2024-03-31           PT15M        7154.989\n",
       "35130  2024-03-31           PT15M        7080.153\n",
       "35131  2024-03-31           PT15M        6997.484\n",
       "35132  2024-03-31           PT15M        6857.264\n",
       "35133  2024-03-31           PT15M        6673.454\n",
       "35134  2024-03-31           PT15M        6507.564\n",
       "35135  2024-03-31           PT15M        6401.901"
      ]
     },
     "execution_count": 13,
     "metadata": {},
     "output_type": "execute_result"
    }
   ],
   "source": [
    "data['Datetime'] = pd.to_datetime(data['Datetime'], utc=True).dt.date\n",
    "data.tail(10)"
   ]
  },
  {
   "cell_type": "code",
   "execution_count": 10,
   "id": "483f3f0c",
   "metadata": {},
   "outputs": [],
   "source": [
    "import os\n",
    "from sklearn.preprocessing import MinMaxScaler\n",
    "import torch"
   ]
  },
  {
   "cell_type": "code",
   "execution_count": 16,
   "id": "16ee14bb",
   "metadata": {},
   "outputs": [
    {
     "name": "stderr",
     "output_type": "stream",
     "text": [
      "C:\\Users\\shenzhenyang\\AppData\\Local\\Temp\\ipykernel_18776\\3056820004.py:30: FutureWarning: DataFrame.applymap has been deprecated. Use DataFrame.map instead.\n",
      "  data_need = data_need.applymap(convert_to_float)\n"
     ]
    }
   ],
   "source": [
    "# 设置设备和超参数\n",
    "device = torch.device('cpu')\n",
    "learning_rate = 1e-3\n",
    "output_folder = 'NL'\n",
    "data_close = data['Elia Grid Load']\n",
    "reversed_data_close = list(data_close[::-1])\n",
    "\n",
    "# 定义输出目录\n",
    "output_dir = f'data_exp/{output_folder}'\n",
    "\n",
    "# 如果目录不存在，创建它\n",
    "os.makedirs(output_dir, exist_ok=True)\n",
    "# 创建时间序列数据（14天窗口）\n",
    "time_series_list = []\n",
    "for i in range(0, len(reversed_data_close) - 13):\n",
    "    time_series_list.append(reversed_data_close[i:i+14])\n",
    "\n",
    "# 创建 DataFrame，列名为 \"before X day\" 和 \"target\"\n",
    "columns = [f\"before {i} day\" for i in range(1, 14)][::-1] + ['target']\n",
    "data_need = pd.DataFrame(time_series_list, columns=columns)\n",
    "\n",
    "# 定义转换函数（处理带逗号的数字字符串）\n",
    "def convert_to_float(x):\n",
    "    try:\n",
    "        return float(str(x).replace(',', ''))\n",
    "    except:\n",
    "        return x\n",
    "\n",
    "# 转换整个 DataFrame 为浮点数\n",
    "data_need = data_need.applymap(convert_to_float)\n",
    "\n",
    "# 归一化\n",
    "x = data_need.values[:, :-1]  # 特征\n",
    "y = data_need.values[:, -1]   # 目标\n",
    "ss_input = MinMaxScaler()\n",
    "ss_output = MinMaxScaler()\n",
    "x = ss_input.fit_transform(x)\n",
    "y = ss_output.fit_transform(y[:, np.newaxis]).reshape(-1, 1)\n",
    "data_need = pd.concat([pd.DataFrame(x), pd.DataFrame(y)], axis=1)\n",
    "\n",
    "# 划分数据集\n",
    "total_samples = len(data_need)\n",
    "train_size = int(0.8 * total_samples)\n",
    "test_size = int(0.1 * total_samples)\n",
    "val_size = total_samples - train_size - test_size\n",
    "\n",
    "train_set = data_need[:train_size].reset_index(drop=True)\n",
    "test_set = data_need[train_size:train_size + test_size].reset_index(drop=True)\n",
    "val_set = data_need[train_size + test_size:].reset_index(drop=True)\n",
    "\n",
    "# 保存数据集\n",
    "train_set.to_csv(f'data_exp/{output_folder}/train_set.csv', index=False)\n",
    "test_set.to_csv(f'data_exp/{output_folder}/test_set.csv', index=False)\n",
    "val_set.to_csv(f'data_exp/{output_folder}/val_set.csv', index=False)"
   ]
  }
 ],
 "metadata": {
  "kernelspec": {
   "display_name": "stone",
   "language": "python",
   "name": "python3"
  },
  "language_info": {
   "codemirror_mode": {
    "name": "ipython",
    "version": 3
   },
   "file_extension": ".py",
   "mimetype": "text/x-python",
   "name": "python",
   "nbconvert_exporter": "python",
   "pygments_lexer": "ipython3",
   "version": "3.9.19"
  }
 },
 "nbformat": 4,
 "nbformat_minor": 5
}
