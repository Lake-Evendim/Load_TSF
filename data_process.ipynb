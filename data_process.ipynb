{
 "cells": [
  {
   "cell_type": "code",
   "execution_count": 26,
   "id": "b6e25a2f",
   "metadata": {},
   "outputs": [],
   "source": [
    "import pandas as pd\n",
    "import numpy as np\n",
    "from sklearn.model_selection import train_test_split\n",
    "from sklearn.preprocessing import StandardScaler"
   ]
  },
  {
   "cell_type": "code",
   "execution_count": 27,
   "id": "d10d665b",
   "metadata": {},
   "outputs": [
    {
     "data": {
      "text/plain": [
       "Datetime            object\n",
       "Resolution code     object\n",
       "Elia Grid Load     float64\n",
       "dtype: object"
      ]
     },
     "execution_count": 27,
     "metadata": {},
     "output_type": "execute_result"
    }
   ],
   "source": [
    "# Load the CSV file\n",
    "data = pd.read_csv(r'dataset_origin\\NL\\NL_elia.csv')\n",
    "\n",
    "data.dtypes"
   ]
  },
  {
   "cell_type": "code",
   "execution_count": 28,
   "id": "6bd3255c",
   "metadata": {},
   "outputs": [
    {
     "data": {
      "text/plain": [
       "0"
      ]
     },
     "execution_count": 28,
     "metadata": {},
     "output_type": "execute_result"
    }
   ],
   "source": [
    "data['Datetime'].isna().sum()"
   ]
  },
  {
   "cell_type": "code",
   "execution_count": 29,
   "id": "1da03693",
   "metadata": {},
   "outputs": [
    {
     "data": {
      "text/html": [
       "<div>\n",
       "<style scoped>\n",
       "    .dataframe tbody tr th:only-of-type {\n",
       "        vertical-align: middle;\n",
       "    }\n",
       "\n",
       "    .dataframe tbody tr th {\n",
       "        vertical-align: top;\n",
       "    }\n",
       "\n",
       "    .dataframe thead th {\n",
       "        text-align: right;\n",
       "    }\n",
       "</style>\n",
       "<table border=\"1\" class=\"dataframe\">\n",
       "  <thead>\n",
       "    <tr style=\"text-align: right;\">\n",
       "      <th></th>\n",
       "      <th>Datetime</th>\n",
       "      <th>Resolution code</th>\n",
       "      <th>Elia Grid Load</th>\n",
       "    </tr>\n",
       "  </thead>\n",
       "  <tbody>\n",
       "    <tr>\n",
       "      <th>35218</th>\n",
       "      <td>2024-03-31</td>\n",
       "      <td>PT15M</td>\n",
       "      <td>5973.219</td>\n",
       "    </tr>\n",
       "    <tr>\n",
       "      <th>35219</th>\n",
       "      <td>2024-03-31</td>\n",
       "      <td>PT15M</td>\n",
       "      <td>6058.357</td>\n",
       "    </tr>\n",
       "    <tr>\n",
       "      <th>35220</th>\n",
       "      <td>2024-03-31</td>\n",
       "      <td>PT15M</td>\n",
       "      <td>6214.066</td>\n",
       "    </tr>\n",
       "    <tr>\n",
       "      <th>35221</th>\n",
       "      <td>2024-03-31</td>\n",
       "      <td>PT15M</td>\n",
       "      <td>6301.227</td>\n",
       "    </tr>\n",
       "    <tr>\n",
       "      <th>35222</th>\n",
       "      <td>2024-03-31</td>\n",
       "      <td>PT15M</td>\n",
       "      <td>6423.219</td>\n",
       "    </tr>\n",
       "    <tr>\n",
       "      <th>35223</th>\n",
       "      <td>2024-03-31</td>\n",
       "      <td>PT15M</td>\n",
       "      <td>6608.277</td>\n",
       "    </tr>\n",
       "    <tr>\n",
       "      <th>35224</th>\n",
       "      <td>2024-03-30</td>\n",
       "      <td>PT15M</td>\n",
       "      <td>6786.324</td>\n",
       "    </tr>\n",
       "    <tr>\n",
       "      <th>35225</th>\n",
       "      <td>2024-03-30</td>\n",
       "      <td>PT15M</td>\n",
       "      <td>6875.070</td>\n",
       "    </tr>\n",
       "    <tr>\n",
       "      <th>35226</th>\n",
       "      <td>2024-03-30</td>\n",
       "      <td>PT15M</td>\n",
       "      <td>6998.226</td>\n",
       "    </tr>\n",
       "    <tr>\n",
       "      <th>35227</th>\n",
       "      <td>2024-03-30</td>\n",
       "      <td>PT15M</td>\n",
       "      <td>7129.384</td>\n",
       "    </tr>\n",
       "  </tbody>\n",
       "</table>\n",
       "</div>"
      ],
      "text/plain": [
       "         Datetime Resolution code  Elia Grid Load\n",
       "35218  2024-03-31           PT15M        5973.219\n",
       "35219  2024-03-31           PT15M        6058.357\n",
       "35220  2024-03-31           PT15M        6214.066\n",
       "35221  2024-03-31           PT15M        6301.227\n",
       "35222  2024-03-31           PT15M        6423.219\n",
       "35223  2024-03-31           PT15M        6608.277\n",
       "35224  2024-03-30           PT15M        6786.324\n",
       "35225  2024-03-30           PT15M        6875.070\n",
       "35226  2024-03-30           PT15M        6998.226\n",
       "35227  2024-03-30           PT15M        7129.384"
      ]
     },
     "execution_count": 29,
     "metadata": {},
     "output_type": "execute_result"
    }
   ],
   "source": [
    "data['Datetime'] = pd.to_datetime(data['Datetime'], utc=True).dt.date\n",
    "data.tail(10)"
   ]
  },
  {
   "cell_type": "code",
   "execution_count": 40,
   "id": "432ab289",
   "metadata": {},
   "outputs": [
    {
     "data": {
      "text/html": [
       "<div>\n",
       "<style scoped>\n",
       "    .dataframe tbody tr th:only-of-type {\n",
       "        vertical-align: middle;\n",
       "    }\n",
       "\n",
       "    .dataframe tbody tr th {\n",
       "        vertical-align: top;\n",
       "    }\n",
       "\n",
       "    .dataframe thead th {\n",
       "        text-align: right;\n",
       "    }\n",
       "</style>\n",
       "<table border=\"1\" class=\"dataframe\">\n",
       "  <thead>\n",
       "    <tr style=\"text-align: right;\">\n",
       "      <th></th>\n",
       "      <th>Datetime</th>\n",
       "      <th>Resolution code</th>\n",
       "      <th>Elia Grid Load</th>\n",
       "    </tr>\n",
       "  </thead>\n",
       "  <tbody>\n",
       "    <tr>\n",
       "      <th>35214</th>\n",
       "      <td>2024-03-31</td>\n",
       "      <td>PT15M</td>\n",
       "      <td>5839.451</td>\n",
       "    </tr>\n",
       "    <tr>\n",
       "      <th>35215</th>\n",
       "      <td>2024-03-31</td>\n",
       "      <td>PT15M</td>\n",
       "      <td>5888.431</td>\n",
       "    </tr>\n",
       "    <tr>\n",
       "      <th>35216</th>\n",
       "      <td>2024-03-31</td>\n",
       "      <td>PT15M</td>\n",
       "      <td>5802.283</td>\n",
       "    </tr>\n",
       "    <tr>\n",
       "      <th>35217</th>\n",
       "      <td>2024-03-31</td>\n",
       "      <td>PT15M</td>\n",
       "      <td>5900.483</td>\n",
       "    </tr>\n",
       "    <tr>\n",
       "      <th>35218</th>\n",
       "      <td>2024-03-31</td>\n",
       "      <td>PT15M</td>\n",
       "      <td>5973.219</td>\n",
       "    </tr>\n",
       "    <tr>\n",
       "      <th>35219</th>\n",
       "      <td>2024-03-31</td>\n",
       "      <td>PT15M</td>\n",
       "      <td>6058.357</td>\n",
       "    </tr>\n",
       "    <tr>\n",
       "      <th>35220</th>\n",
       "      <td>2024-03-31</td>\n",
       "      <td>PT15M</td>\n",
       "      <td>6214.066</td>\n",
       "    </tr>\n",
       "    <tr>\n",
       "      <th>35221</th>\n",
       "      <td>2024-03-31</td>\n",
       "      <td>PT15M</td>\n",
       "      <td>6301.227</td>\n",
       "    </tr>\n",
       "    <tr>\n",
       "      <th>35222</th>\n",
       "      <td>2024-03-31</td>\n",
       "      <td>PT15M</td>\n",
       "      <td>6423.219</td>\n",
       "    </tr>\n",
       "    <tr>\n",
       "      <th>35223</th>\n",
       "      <td>2024-03-31</td>\n",
       "      <td>PT15M</td>\n",
       "      <td>6608.277</td>\n",
       "    </tr>\n",
       "  </tbody>\n",
       "</table>\n",
       "</div>"
      ],
      "text/plain": [
       "         Datetime Resolution code  Elia Grid Load\n",
       "35214  2024-03-31           PT15M        5839.451\n",
       "35215  2024-03-31           PT15M        5888.431\n",
       "35216  2024-03-31           PT15M        5802.283\n",
       "35217  2024-03-31           PT15M        5900.483\n",
       "35218  2024-03-31           PT15M        5973.219\n",
       "35219  2024-03-31           PT15M        6058.357\n",
       "35220  2024-03-31           PT15M        6214.066\n",
       "35221  2024-03-31           PT15M        6301.227\n",
       "35222  2024-03-31           PT15M        6423.219\n",
       "35223  2024-03-31           PT15M        6608.277"
      ]
     },
     "execution_count": 40,
     "metadata": {},
     "output_type": "execute_result"
    }
   ],
   "source": [
    "data = data[data['Datetime'].astype(str) != '2024-03-30']\n",
    "data.tail(10)"
   ]
  },
  {
   "cell_type": "code",
   "execution_count": 30,
   "id": "483f3f0c",
   "metadata": {},
   "outputs": [],
   "source": [
    "import os\n",
    "from sklearn.preprocessing import MinMaxScaler\n",
    "import torch"
   ]
  },
  {
   "cell_type": "code",
   "execution_count": 31,
   "id": "16ee14bb",
   "metadata": {},
   "outputs": [
    {
     "name": "stderr",
     "output_type": "stream",
     "text": [
      "C:\\Users\\shenzhenyang\\AppData\\Local\\Temp\\ipykernel_18776\\3056820004.py:30: FutureWarning: DataFrame.applymap has been deprecated. Use DataFrame.map instead.\n",
      "  data_need = data_need.applymap(convert_to_float)\n"
     ]
    }
   ],
   "source": [
    "# 设置设备和超参数\n",
    "device = torch.device('cpu')\n",
    "learning_rate = 1e-3\n",
    "output_folder = 'NL'\n",
    "data_close = data['Elia Grid Load']\n",
    "reversed_data_close = list(data_close[::-1])\n",
    "\n",
    "# 定义输出目录\n",
    "output_dir = f'data_exp/{output_folder}'\n",
    "\n",
    "# 如果目录不存在，创建它\n",
    "os.makedirs(output_dir, exist_ok=True)\n",
    "# 创建时间序列数据（14天窗口）\n",
    "time_series_list = []\n",
    "for i in range(0, len(reversed_data_close) - 13):\n",
    "    time_series_list.append(reversed_data_close[i:i+14])\n",
    "\n",
    "# 创建 DataFrame，列名为 \"before X day\" 和 \"target\"\n",
    "columns = [f\"before {i} day\" for i in range(1, 14)][::-1] + ['target']\n",
    "data_need = pd.DataFrame(time_series_list, columns=columns)\n",
    "\n",
    "# 定义转换函数（处理带逗号的数字字符串）\n",
    "def convert_to_float(x):\n",
    "    try:\n",
    "        return float(str(x).replace(',', ''))\n",
    "    except:\n",
    "        return x\n",
    "\n",
    "# 转换整个 DataFrame 为浮点数\n",
    "data_need = data_need.applymap(convert_to_float)\n",
    "\n",
    "# 归一化\n",
    "x = data_need.values[:, :-1]  # 特征\n",
    "y = data_need.values[:, -1]   # 目标\n",
    "ss_input = MinMaxScaler()\n",
    "ss_output = MinMaxScaler()\n",
    "x = ss_input.fit_transform(x)\n",
    "y = ss_output.fit_transform(y[:, np.newaxis]).reshape(-1, 1)\n",
    "data_need = pd.concat([pd.DataFrame(x), pd.DataFrame(y)], axis=1)\n",
    "\n",
    "# 划分数据集\n",
    "total_samples = len(data_need)\n",
    "train_size = int(0.8 * total_samples)\n",
    "test_size = int(0.1 * total_samples)\n",
    "val_size = total_samples - train_size - test_size\n",
    "\n",
    "train_set = data_need[:train_size].reset_index(drop=True)\n",
    "test_set = data_need[train_size:train_size + test_size].reset_index(drop=True)\n",
    "val_set = data_need[train_size + test_size:].reset_index(drop=True)\n",
    "\n",
    "# 保存数据集\n",
    "train_set.to_csv(f'data_exp/{output_folder}/train_set.csv', index=False)\n",
    "test_set.to_csv(f'data_exp/{output_folder}/test_set.csv', index=False)\n",
    "val_set.to_csv(f'data_exp/{output_folder}/val_set.csv', index=False)"
   ]
  }
 ],
 "metadata": {
  "kernelspec": {
   "display_name": "stone",
   "language": "python",
   "name": "python3"
  },
  "language_info": {
   "codemirror_mode": {
    "name": "ipython",
    "version": 3
   },
   "file_extension": ".py",
   "mimetype": "text/x-python",
   "name": "python",
   "nbconvert_exporter": "python",
   "pygments_lexer": "ipython3",
   "version": "3.9.19"
  }
 },
 "nbformat": 4,
 "nbformat_minor": 5
}
